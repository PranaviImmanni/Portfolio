{
  "cells": [
    {
      "cell_type": "markdown",
      "metadata": {},
      "source": [
        "# 👥 Customer Behavior Segmentation Analysis\n",
        "\n",
        "## 🎯 Project Overview\n",
        "This comprehensive analysis demonstrates advanced customer segmentation using RFM (Recency, Frequency, Monetary) analysis and machine learning clustering techniques. We'll analyze customer behavior patterns, identify distinct segments, and generate actionable business insights for targeted marketing strategies.\n",
        "\n",
        "## 🛠️ Technologies Used\n",
        "- **Python 3.8+** - Core programming language\n",
        "- **pandas** - Data manipulation and analysis\n",
        "- **scikit-learn** - Machine learning and clustering\n",
        "- **matplotlib/seaborn** - Data visualization\n",
        "- **numpy** - Numerical computations\n",
        "\n",
        "## 📊 Key Features\n",
        "- Advanced RFM analysis methodology\n",
        "- K-means clustering for customer segmentation\n",
        "- Interactive visualizations and insights\n",
        "- Business intelligence and recommendations\n",
        "- Professional reporting and analysis\n"
      ]
    },
    {
      "cell_type": "markdown",
      "metadata": {},
      "source": [
        "## 📦 Import Libraries and Setup\n"
      ]
    },
    {
      "cell_type": "code",
      "execution_count": null,
      "metadata": {},
      "outputs": [],
      "source": [
        "import pandas as pd\n",
        "import numpy as np\n",
        "import matplotlib.pyplot as plt\n",
        "import seaborn as sns\n",
        "from sklearn.cluster import KMeans\n",
        "from sklearn.preprocessing import StandardScaler\n",
        "from sklearn.metrics import silhouette_score\n",
        "from datetime import datetime, timedelta\n",
        "import warnings\n",
        "warnings.filterwarnings('ignore')\n",
        "\n",
        "# Set visualization style\n",
        "plt.style.use('seaborn-v0_8')\n",
        "sns.set_palette(\"husl\")\n",
        "\n",
        "print(\"✅ Libraries imported successfully!\")\n",
        "print(f\"📅 Analysis Date: {datetime.now().strftime('%Y-%m-%d %H:%M:%S')}\")\n",
        "print(\"👥 Ready for Customer Segmentation Analysis!\")\n"
      ]
    }
  ],
  "metadata": {
    "language_info": {
      "name": "python"
    }
  },
  "nbformat": 4,
  "nbformat_minor": 2
}

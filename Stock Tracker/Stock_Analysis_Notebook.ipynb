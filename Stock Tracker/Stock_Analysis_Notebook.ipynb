{
  "cells": [
    {
      "cell_type": "markdown",
      "metadata": {},
      "source": [
        "# 📈 Stock Market Analysis & Tracker\n",
        "\n",
        "## 🎯 Project Overview\n",
        "This comprehensive analysis demonstrates advanced stock market data analysis using Python. We'll fetch real-time data, perform statistical analysis, create visualizations, and generate actionable insights for investment decisions.\n",
        "\n",
        "## 🛠️ Technologies Used\n",
        "- **Python 3.8+**\n",
        "- **yfinance** - Real-time stock data\n",
        "- **pandas** - Data manipulation\n",
        "- **matplotlib/seaborn** - Visualization\n",
        "- **numpy** - Numerical analysis\n",
        "\n",
        "## 📊 Key Features\n",
        "- Real-time stock data fetching\n",
        "- Performance analysis and comparisons\n",
        "- Risk assessment and volatility analysis\n",
        "- Interactive visualizations\n",
        "- Statistical insights and trends\n"
      ]
    },
    {
      "cell_type": "markdown",
      "metadata": {},
      "source": [
        "## 📦 Import Libraries and Setup\n"
      ]
    },
    {
      "cell_type": "code",
      "execution_count": null,
      "metadata": {},
      "outputs": [],
      "source": [
        "import yfinance as yf\n",
        "import pandas as pd\n",
        "import numpy as np\n",
        "import matplotlib.pyplot as plt\n",
        "import seaborn as sns\n",
        "from datetime import datetime, timedelta\n",
        "import warnings\n",
        "warnings.filterwarnings('ignore')\n",
        "\n",
        "# Set style for better visualizations\n",
        "plt.style.use('seaborn-v0_8')\n",
        "sns.set_palette(\"husl\")\n",
        "\n",
        "print(\"✅ Libraries imported successfully!\")\n",
        "print(f\"📅 Analysis Date: {datetime.now().strftime('%Y-%m-%d %H:%M:%S')}\")\n"
      ]
    },
    {
      "cell_type": "markdown",
      "metadata": {},
      "source": [
        "## 🎯 Define Analysis Parameters\n"
      ]
    },
    {
      "cell_type": "code",
      "execution_count": null,
      "metadata": {},
      "outputs": [],
      "source": [
        "# Stock symbols to analyze\n",
        "STOCK_SYMBOLS = ['AAPL', 'MSFT', 'GOOGL', 'TSLA', 'AMZN', 'META', 'NVDA']\n",
        "\n",
        "# Analysis period\n",
        "END_DATE = datetime.now()\n",
        "START_DATE = END_DATE - timedelta(days=365)  # 1 year of data\n",
        "\n",
        "print(f\"📊 Analyzing {len(STOCK_SYMBOLS)} stocks:\")\n",
        "for symbol in STOCK_SYMBOLS:\n",
        "    print(f\"   • {symbol}\")\n",
        "print(f\"\\n📅 Analysis Period: {START_DATE.strftime('%Y-%m-%d')} to {END_DATE.strftime('%Y-%m-%d')}\")\n"
      ]
    },
    {
      "cell_type": "markdown",
      "metadata": {},
      "source": [
        "## 📈 Data Collection and Processing\n"
      ]
    },
    {
      "cell_type": "code",
      "execution_count": null,
      "metadata": {},
      "outputs": [],
      "source": [
        "def fetch_stock_data(symbols, start_date, end_date):\n",
        "    \"\"\"\n",
        "    Fetch stock data for multiple symbols\n",
        "    \"\"\"\n",
        "    stock_data = {}\n",
        "    \n",
        "    for symbol in symbols:\n",
        "        try:\n",
        "            print(f\"📥 Fetching data for {symbol}...\")\n",
        "            ticker = yf.Ticker(symbol)\n",
        "            data = ticker.history(start=start_date, end=end_date)\n",
        "            \n",
        "            if not data.empty:\n",
        "                stock_data[symbol] = data\n",
        "                print(f\"   ✅ {symbol}: {len(data)} days of data\")\n",
        "            else:\n",
        "                print(f\"   ❌ {symbol}: No data available\")\n",
        "                \n",
        "        except Exception as e:\n",
        "            print(f\"   ❌ {symbol}: Error - {str(e)}\")\n",
        "    \n",
        "    return stock_data\n",
        "\n",
        "# Fetch data\n",
        "stock_data = fetch_stock_data(STOCK_SYMBOLS, START_DATE, END_DATE)\n",
        "print(f\"\\n🎉 Successfully fetched data for {len(stock_data)} stocks!\")\n"
      ]
    }
  ],
  "metadata": {
    "language_info": {
      "name": "python"
    }
  },
  "nbformat": 4,
  "nbformat_minor": 2
}
